{
 "cells": [
  {
   "cell_type": "markdown",
   "metadata": {
    "slideshow": {
     "slide_type": "slide"
    },
    "tags": [
     "remove_cell"
    ]
   },
   "source": [
    "# Report"
   ]
  },
  {
   "cell_type": "code",
   "execution_count": 1,
   "metadata": {
    "slideshow": {
     "slide_type": "fragment"
    },
    "tags": [
     "remove_cell"
    ]
   },
   "outputs": [],
   "source": [
    "%load_ext autoreload\n",
    "%autoreload 2\n",
    "%matplotlib inline\n",
    "import warnings\n",
    "\n",
    "warnings.filterwarnings(\"ignore\", message=\"numpy.dtype size changed\")\n",
    "warnings.filterwarnings(\"ignore\", message=\"numpy.ufunc size changed\")"
   ]
  },
  {
   "cell_type": "code",
   "execution_count": 2,
   "metadata": {
    "tags": [
     "remove_cell"
    ]
   },
   "outputs": [],
   "source": [
    "import os\n",
    "import os.path as osp\n",
    "from collections import Counter\n",
    "\n",
    "import numpy as np\n",
    "import pandas as pd\n",
    "from gensim.models import Word2Vec\n",
    "from redditscore.tokenizer import CrazyTokenizer\n",
    "from sklearn import metrics\n",
    "from tqdm import tqdm_notebook"
   ]
  },
  {
   "cell_type": "code",
   "execution_count": 3,
   "metadata": {
    "slideshow": {
     "slide_type": "skip"
    },
    "tags": [
     "remove_cell"
    ]
   },
   "outputs": [],
   "source": [
    "import matplotlib.pyplot as plt\n",
    "import seaborn\n",
    "from IPython.display import set_matplotlib_formats\n",
    "from jupyterthemes import jtplot\n",
    "\n",
    "jtplot.style()\n",
    "\n",
    "set_matplotlib_formats('pdf', 'png')\n",
    "plt.rcParams['savefig.dpi'] = 75\n",
    "\n",
    "plt.rcParams['figure.autolayout'] = False\n",
    "plt.rcParams['figure.figsize'] = 10, 6\n",
    "plt.rcParams['axes.labelsize'] = 18\n",
    "plt.rcParams['axes.titlesize'] = 20\n",
    "plt.rcParams['font.size'] = 16\n",
    "plt.rcParams['lines.linewidth'] = 2.0\n",
    "plt.rcParams['lines.markersize'] = 8\n",
    "plt.rcParams['legend.fontsize'] = 14"
   ]
  },
  {
   "cell_type": "code",
   "execution_count": 4,
   "metadata": {
    "tags": [
     "remove_cell"
    ]
   },
   "outputs": [],
   "source": [
    "DATA_DIR = r'/media/data/PhD_Projects/kenya/data'\n",
    "MODEL_DIR = r'/media/data/PhD_Projects/kenya/models'\n",
    "np.set_printoptions(suppress=True)"
   ]
  },
  {
   "cell_type": "code",
   "execution_count": 5,
   "metadata": {
    "tags": [
     "remove_cell"
    ]
   },
   "outputs": [],
   "source": [
    "tokenizer = CrazyTokenizer(\n",
    "    keepcaps=False,\n",
    "    ignore_stopwords='english',\n",
    "    twitter_handles='',\n",
    "    hashtags='split',\n",
    "    subreddits='',\n",
    "    reddit_usernames='',\n",
    "    emails='',\n",
    "    urls='')"
   ]
  },
  {
   "cell_type": "markdown",
   "metadata": {},
   "source": [
    "Note: code is included if it prints an important output or if it is otherwise relevant to the report\n",
    "\n",
    "Full code can be found at https://github.com/crazyfrogspb/kenya"
   ]
  },
  {
   "cell_type": "markdown",
   "metadata": {},
   "source": [
    "# User groups"
   ]
  },
  {
   "cell_type": "code",
   "execution_count": 6,
   "metadata": {
    "tags": [
     "remove_cell"
    ]
   },
   "outputs": [],
   "source": [
    "users = pd.read_csv(\n",
    "    osp.join(DATA_DIR, 'processed', 'all_users.csv'),\n",
    "    lineterminator='\\n',\n",
    ")\n",
    "account_groups = pd.read_excel(\n",
    "    osp.join(DATA_DIR, 'raw', 'churchgroups_fortwitterusers.xls'),\n",
    "    sheet_name=0)\n",
    "contain_groups = pd.read_excel(\n",
    "    osp.join(DATA_DIR, 'raw', 'churchgroups_fortwitterusers.xls'),\n",
    "    sheet_name=1)\n",
    "account_mapping = dict(\n",
    "    zip(account_groups.follows, account_groups.Group.str.strip()))\n",
    "contain_mapping = dict(\n",
    "    zip(contain_groups.Variable, contain_groups.Group.str.strip()))"
   ]
  },
  {
   "cell_type": "markdown",
   "metadata": {},
   "source": [
    "First, we load the user data and create group mappings based on two TXT files\n",
    "\n",
    "As it turns out, the followers of two accounts haven't been collected (@mavunochurchorg is suspended, @HouseofGraceHQ is just not in the dataset for some reason, can recollect if necessary)"
   ]
  },
  {
   "cell_type": "code",
   "execution_count": 7,
   "metadata": {},
   "outputs": [
    {
     "name": "stdout",
     "output_type": "stream",
     "text": [
      "follows_mavunochurchorg not in columns\n",
      "follows_HouseofGraceHQ not in columns\n"
     ]
    }
   ],
   "source": [
    "for account, group in account_mapping.items():\n",
    "    if f'follows_{account}' not in users.columns:\n",
    "        print(f'follows_{account} not in columns')\n",
    "    else:\n",
    "        users.loc[users[f'follows_{account}'] == 1, f'group_{group}'] = 1\n",
    "\n",
    "for word, group in contain_mapping.items():\n",
    "    if f'{word}' not in users.columns:\n",
    "        print(f'{word} not in columns')\n",
    "    else:\n",
    "        users.loc[users[f'{word}'] == 1, f'group_{group}'] = 1"
   ]
  },
  {
   "cell_type": "markdown",
   "metadata": {},
   "source": [
    "Over 85% of the users belong to single group according to our mapping"
   ]
  },
  {
   "cell_type": "code",
   "execution_count": 8,
   "metadata": {},
   "outputs": [
    {
     "name": "stdout",
     "output_type": "stream",
     "text": [
      "number_of_groups\n",
      "0      649\n",
      "1    19972\n",
      "2     2251\n",
      "3      355\n",
      "4        3\n",
      "dtype: int64\n",
      "                  Percentage\n",
      "number_of_groups            \n",
      "0                   0.027938\n",
      "1                   0.859750\n",
      "2                   0.096901\n",
      "3                   0.015282\n",
      "4                   0.000129\n"
     ]
    },
    {
     "data": {
      "text/plain": [
       "<matplotlib.axes._subplots.AxesSubplot at 0x7f96b125c358>"
      ]
     },
     "execution_count": 8,
     "metadata": {},
     "output_type": "execute_result"
    },
    {
     "data": {
      "application/pdf": "[encoded data removed]",
      "image/png": "[encoded data removed]",
      "text/plain": [
       "<Figure size 576x288 with 1 Axes>"
      ]
     },
     "metadata": {},
     "output_type": "display_data"
    }
   ],
   "source": [
    "group_cols = list(users.filter(regex='group_', axis=1).columns)\n",
    "users[group_cols] = users[group_cols].fillna(0)\n",
    "users['number_of_groups'] = users[group_cols].sum(axis=1).astype(int)\n",
    "print(users.groupby('number_of_groups').size())\n",
    "print(\n",
    "    pd.DataFrame({\n",
    "        'Percentage':\n",
    "        users.groupby(('number_of_groups')).size() / len(users)\n",
    "    }))\n",
    "fig, ax = plt.subplots(figsize=(8, 4))\n",
    "ax.set_xlabel('Number of groups per user')\n",
    "ax.set_ylabel('Number of users')\n",
    "users['number_of_groups'].hist(bins=[0, 1, 2, 3, 4, 5], ax=ax)"
   ]
  },
  {
   "cell_type": "markdown",
   "metadata": {},
   "source": [
    "Among users with multiple groups, the most popular combinations are Mainline Protestant + nan, Mainline Protestant + Pentecostal, Pentecostal + nan and Mainline Protestant + Pentecostal + nan"
   ]
  },
  {
   "cell_type": "code",
   "execution_count": 9,
   "metadata": {},
   "outputs": [
    {
     "data": {
      "text/html": [
       "<div>\n",
       "<style scoped>\n",
       "    .dataframe tbody tr th:only-of-type {\n",
       "        vertical-align: middle;\n",
       "    }\n",
       "\n",
       "    .dataframe tbody tr th {\n",
       "        vertical-align: top;\n",
       "    }\n",
       "\n",
       "    .dataframe thead th {\n",
       "        text-align: right;\n",
       "    }\n",
       "</style>\n",
       "<table border=\"1\" class=\"dataframe\">\n",
       "  <thead>\n",
       "    <tr style=\"text-align: right;\">\n",
       "      <th></th>\n",
       "      <th></th>\n",
       "      <th></th>\n",
       "      <th></th>\n",
       "      <th>users_num</th>\n",
       "    </tr>\n",
       "    <tr>\n",
       "      <th>group_Mainline Protestant</th>\n",
       "      <th>group_Pentecostal</th>\n",
       "      <th>group_Catholic</th>\n",
       "      <th>group_nan</th>\n",
       "      <th></th>\n",
       "    </tr>\n",
       "  </thead>\n",
       "  <tbody>\n",
       "    <tr>\n",
       "      <th rowspan=\"2\" valign=\"top\">1.0</th>\n",
       "      <th>0.0</th>\n",
       "      <th>0.0</th>\n",
       "      <th>1.0</th>\n",
       "      <td>971</td>\n",
       "    </tr>\n",
       "    <tr>\n",
       "      <th>1.0</th>\n",
       "      <th>0.0</th>\n",
       "      <th>0.0</th>\n",
       "      <td>746</td>\n",
       "    </tr>\n",
       "    <tr>\n",
       "      <th>0.0</th>\n",
       "      <th>1.0</th>\n",
       "      <th>0.0</th>\n",
       "      <th>1.0</th>\n",
       "      <td>479</td>\n",
       "    </tr>\n",
       "    <tr>\n",
       "      <th rowspan=\"2\" valign=\"top\">1.0</th>\n",
       "      <th>1.0</th>\n",
       "      <th>0.0</th>\n",
       "      <th>1.0</th>\n",
       "      <td>344</td>\n",
       "    </tr>\n",
       "    <tr>\n",
       "      <th>0.0</th>\n",
       "      <th>1.0</th>\n",
       "      <th>0.0</th>\n",
       "      <td>35</td>\n",
       "    </tr>\n",
       "    <tr>\n",
       "      <th>0.0</th>\n",
       "      <th>0.0</th>\n",
       "      <th>1.0</th>\n",
       "      <th>1.0</th>\n",
       "      <td>14</td>\n",
       "    </tr>\n",
       "    <tr>\n",
       "      <th>1.0</th>\n",
       "      <th>0.0</th>\n",
       "      <th>1.0</th>\n",
       "      <th>1.0</th>\n",
       "      <td>7</td>\n",
       "    </tr>\n",
       "    <tr>\n",
       "      <th>0.0</th>\n",
       "      <th>1.0</th>\n",
       "      <th>1.0</th>\n",
       "      <th>0.0</th>\n",
       "      <td>6</td>\n",
       "    </tr>\n",
       "    <tr>\n",
       "      <th>1.0</th>\n",
       "      <th>1.0</th>\n",
       "      <th>1.0</th>\n",
       "      <th>1.0</th>\n",
       "      <td>3</td>\n",
       "    </tr>\n",
       "    <tr>\n",
       "      <th>0.0</th>\n",
       "      <th>1.0</th>\n",
       "      <th>1.0</th>\n",
       "      <th>1.0</th>\n",
       "      <td>2</td>\n",
       "    </tr>\n",
       "    <tr>\n",
       "      <th>1.0</th>\n",
       "      <th>1.0</th>\n",
       "      <th>1.0</th>\n",
       "      <th>0.0</th>\n",
       "      <td>2</td>\n",
       "    </tr>\n",
       "  </tbody>\n",
       "</table>\n",
       "</div>"
      ],
      "text/plain": [
       "                                                                      users_num\n",
       "group_Mainline Protestant group_Pentecostal group_Catholic group_nan           \n",
       "1.0                       0.0               0.0            1.0              971\n",
       "                          1.0               0.0            0.0              746\n",
       "0.0                       1.0               0.0            1.0              479\n",
       "1.0                       1.0               0.0            1.0              344\n",
       "                          0.0               1.0            0.0               35\n",
       "0.0                       0.0               1.0            1.0               14\n",
       "1.0                       0.0               1.0            1.0                7\n",
       "0.0                       1.0               1.0            0.0                6\n",
       "1.0                       1.0               1.0            1.0                3\n",
       "0.0                       1.0               1.0            1.0                2\n",
       "1.0                       1.0               1.0            0.0                2"
      ]
     },
     "execution_count": 9,
     "metadata": {},
     "output_type": "execute_result"
    }
   ],
   "source": [
    "users_multiple = users.loc[users.number_of_groups > 1, group_cols].copy()\n",
    "users_multiple.groupby(\n",
    "    users_multiple.columns.tolist(),\n",
    "    as_index=False).size().to_frame(name='users_num').sort_values(\n",
    "        by='users_num', ascending=False)"
   ]
  },
  {
   "cell_type": "markdown",
   "metadata": {},
   "source": [
    "# Tweets"
   ]
  },
  {
   "cell_type": "markdown",
   "metadata": {},
   "source": [
    "For now, let's keep only users who belong to a single group. Let's also create user-group mappings and calculate the number of users by group. Note that there are a lot of nan (JCCKenya) users"
   ]
  },
  {
   "cell_type": "code",
   "execution_count": 10,
   "metadata": {
    "tags": [
     "remove_cell"
    ]
   },
   "outputs": [],
   "source": [
    "users.loc[(users.number_of_groups == 2)\n",
    "          & (users.group_Pentecostal == 1) & (users.group_nan == 1), 'group_nan'] = 0\n",
    "users['number_of_groups'] = users[group_cols].sum(axis=1).astype(int)"
   ]
  },
  {
   "cell_type": "code",
   "execution_count": 11,
   "metadata": {},
   "outputs": [
    {
     "name": "stdout",
     "output_type": "stream",
     "text": [
      "Counter({'group_nan': 8246, 'group_Mainline Protestant': 6262, 'group_Pentecostal': 5265, 'group_Catholic': 678})\n"
     ]
    }
   ],
   "source": [
    "users_single = users.loc[users.number_of_groups == 1, :].copy()\n",
    "user_mapping = dict(\n",
    "    zip(users_single['screen_name'], users_single[group_cols].idxmax(axis=1)))\n",
    "print(Counter(user_mapping.values()))"
   ]
  },
  {
   "cell_type": "markdown",
   "metadata": {},
   "source": [
    "Next, we load all tweets, remove duplicates and tweets that are out of time range; we also drop tweets for which we couldn't identify a single group"
   ]
  },
  {
   "cell_type": "code",
   "execution_count": 12,
   "metadata": {},
   "outputs": [
    {
     "name": "stderr",
     "output_type": "stream",
     "text": [
      "/home/crazyfrogspb/.local/share/virtualenvs/kenya/lib/python3.6/site-packages/IPython/core/interactiveshell.py:3020: DtypeWarning: Columns (1,3) have mixed types. Specify dtype option on import or set low_memory=False.\n",
      "  interactivity=interactivity, compiler=compiler, result=result)\n"
     ]
    }
   ],
   "source": [
    "tweets_file = os.path.join(DATA_DIR, 'processed', 'tweets.csv')\n",
    "tweets = pd.read_csv(\n",
    "    tweets_file,\n",
    "    lineterminator='\\n',\n",
    "    error_bad_lines=False,\n",
    "    usecols=['created_at', 'screen_name', 'id', 'retweet', 'text'])\n",
    "\n",
    "tweets['created_at'] = pd.to_datetime(\n",
    "    tweets['created_at'], infer_datetime_format=True, errors='coerce')\n",
    "tweets['mnth_yr'] = tweets['created_at'].dt.to_period('M')\n",
    "tweets = tweets.loc[(tweets.created_at >= '2013-03-01')\n",
    "                    & (tweets.created_at < '2017-12-01')]\n",
    "\n",
    "tweets['id'] = pd.to_numeric(tweets['id'])\n",
    "tweets.drop_duplicates('id', inplace=True)\n",
    "\n",
    "tweets['group'] = tweets['screen_name'].map(user_mapping)\n",
    "tweets.dropna(subset=['group'], inplace=True)"
   ]
  },
  {
   "cell_type": "markdown",
   "metadata": {},
   "source": [
    "Some descriptive statistics and graphs"
   ]
  },
  {
   "cell_type": "code",
   "execution_count": 13,
   "metadata": {},
   "outputs": [
    {
     "name": "stdout",
     "output_type": "stream",
     "text": [
      "Dataset size: (8997739, 7)\n",
      "Unique users: 16190\n",
      "Number of tweets per group: group\n",
      "group_Catholic                303839\n",
      "group_Mainline Protestant    3524303\n",
      "group_Pentecostal            1923792\n",
      "group_nan                    3245805\n",
      "dtype: int64\n"
     ]
    }
   ],
   "source": [
    "print(f'Dataset size: {tweets.shape}')\n",
    "print(f'Unique users: {len(tweets.screen_name.unique())}')\n",
    "print(f\"Number of tweets per group: {tweets.groupby('group').size()}\")"
   ]
  },
  {
   "cell_type": "code",
   "execution_count": 14,
   "metadata": {},
   "outputs": [
    {
     "data": {
      "text/plain": [
       "<matplotlib.axes._subplots.AxesSubplot at 0x7f96b12f4438>"
      ]
     },
     "execution_count": 14,
     "metadata": {},
     "output_type": "execute_result"
    },
    {
     "data": {
      "application/pdf": "[encoded data removed]",
      "image/png": "[encoded data removed]",
      "text/plain": [
       "<Figure size 576x288 with 1 Axes>"
      ]
     },
     "metadata": {},
     "output_type": "display_data"
    }
   ],
   "source": [
    "fig, ax = plt.subplots(figsize=(8, 4))\n",
    "ax.set_xlabel('Month')\n",
    "ax.set_ylabel('Number of tweets')\n",
    "ax.set_title('Number of tweets over time')\n",
    "tweets.groupby('mnth_yr').size().plot(ax=ax)"
   ]
  },
  {
   "cell_type": "code",
   "execution_count": 15,
   "metadata": {},
   "outputs": [
    {
     "data": {
      "text/plain": [
       "<matplotlib.axes._subplots.AxesSubplot at 0x7f96b12a52b0>"
      ]
     },
     "execution_count": 15,
     "metadata": {},
     "output_type": "execute_result"
    },
    {
     "data": {
      "application/pdf": "[encoded data removed]",
      "image/png": "[encoded data removed]",
      "text/plain": [
       "<Figure size 576x288 with 1 Axes>"
      ]
     },
     "metadata": {},
     "output_type": "display_data"
    }
   ],
   "source": [
    "fig, ax = plt.subplots(figsize=(8, 4))\n",
    "ax.set_xlabel('Number of tweets')\n",
    "ax.set_ylabel('Number of users')\n",
    "ax.set_title('Histogram of number of tweets per user')\n",
    "tweets.groupby('screen_name').size().hist(bins=50)"
   ]
  },
  {
   "cell_type": "markdown",
   "metadata": {},
   "source": [
    "## Politicalness"
   ]
  },
  {
   "cell_type": "markdown",
   "metadata": {},
   "source": [
    "Let's load Word2Vec model pretrained on the sample of 500000 Kenyan tweets and define functions that we need for calculating political scores. Here, we use snowballing technique: starting with a small sample of politicall related words, we then gradually add more words that are most similar to the current dictionary"
   ]
  },
  {
   "cell_type": "code",
   "execution_count": 16,
   "metadata": {
    "tags": [
     "remove_cell"
    ]
   },
   "outputs": [],
   "source": [
    "w2v_model = Word2Vec.load(osp.join(MODEL_DIR, 'w2v.model'))"
   ]
  },
  {
   "cell_type": "code",
   "execution_count": 17,
   "metadata": {
    "tags": [
     "remove_cell"
    ]
   },
   "outputs": [],
   "source": [
    "def snowball(model, start_list, threshold=0.5, limit_voc=150, step=1, min_freq=3):\n",
    "    vocab = list(start_list)\n",
    "    \n",
    "    for i in range(len(w2v_model.wv.vocab)):\n",
    "        word = w2v_model.wv.index2word[i]\n",
    "        freq = w2v_model.wv.vocab[word].count\n",
    "        limit = i\n",
    "        if freq < min_freq:\n",
    "            break\n",
    "            \n",
    "    while len(vocab) <= limit_voc:\n",
    "        words = model.wv.most_similar(positive=vocab, topn=step, restrict_vocab=limit)\n",
    "        words = [word for word, sim in words if sim >= threshold]\n",
    "        if words:\n",
    "            vocab.extend(words)\n",
    "        else:\n",
    "            break\n",
    "    return vocab[0:limit_voc]\n",
    "\n",
    "\n",
    "def list_similarity(new_list, ref_list, model):\n",
    "    new_list_clean = [word for word in new_list if word in model.wv]\n",
    "    if new_list_clean:\n",
    "        return model.wv.n_similarity(ref_list, new_list_clean)\n",
    "    else:\n",
    "        return np.nan\n",
    "\n",
    "\n",
    "def calc_w2v_scores(tweets, model, word_tuples):\n",
    "    for name, word_list in word_tuples:\n",
    "        tweets[name] = tweets['tokens'].apply(\n",
    "            list_similarity, ref_list=word_list, model=model)\n",
    "    return tweets"
   ]
  },
  {
   "cell_type": "markdown",
   "metadata": {},
   "source": [
    "Let's generate expanded list of political words"
   ]
  },
  {
   "cell_type": "code",
   "execution_count": 18,
   "metadata": {},
   "outputs": [
    {
     "name": "stderr",
     "output_type": "stream",
     "text": [
      "/home/crazyfrogspb/.local/share/virtualenvs/kenya/lib/python3.6/site-packages/gensim/matutils.py:737: FutureWarning: Conversion of the second argument of issubdtype from `int` to `np.signedinteger` is deprecated. In future, it will be treated as `np.int64 == np.dtype(int).type`.\n",
      "  if np.issubdtype(vec.dtype, np.int):\n"
     ]
    },
    {
     "name": "stdout",
     "output_type": "stream",
     "text": [
      "['politics', 'government', 'campaign', 'election', 'vote', 'ideology', 'political', 'democracy', 'president', 'partisan', 'corruption', 'reform', 'kenyatta', 'uhuru', 'ruto', 'raila', 'odinga', 'presidency', 'opposition', 'coalition', 'referendum', 'handshake', 'regime', 'electorate', 'legitimacy', 'rao', 'uhuruto', 'majority', '2022', 'rigging', 'despots', 'uthamaki', 'dictatorship', 'opposed', 'tribal', 'politicians', 'democratic', 'parties', 'sycophants', 'jubilee', 'odm', 'cord', 'intimidation', \"gov't\", 'rallies', 'oppose', 'nusu', 'illegitimate', 'unconstitutional', 'elites', 'dismissed', 'judiciary', 'electoral', 'legally', 'politically', 'negotiated', 'minority', 'hypocrisy', 'opposing', 'interference', 'allegations', 'impasse', 'threaten', 'incompetent', 'bribery', 'complicit', 'constitutional', 'intolerance', 'defended', 'squarely', 'incompetence', 'purported', 'purport', 'anarchy', 'jurisdiction', 'jsc', 'removal', 'suspend', 'outright', 'gov’t', 'stance', 'tribunal', 'prosecute', 'impeachment', 'parliamentary', 'fraudulent', 'advises', 'baseless', 'stalemate', 'rejecting', 'duplicitous', 'accuse', 'unfit', 'interfering', 'dissent', 'duress', 'irreducible', 'disbanded', 'scork', 'prosecution', 'reiterated', 'irregularities', 'illegalities', 'embarrassment', 'lapdogs', 'incitement', 'blatant', 'castigated', 'sharad', 'restructure', 'candidature', 'pnu', 'perennial', 'abuses', 'scrutinize', 'delegated', 'pseudo', 'undermining', 'jailing', 'aden', 'scotus', 'petitioners', 'guliye', 'abolish', 'subvert', 'dissidents', 'charade', 'malpractices', 'commision', 'outlawed', 'dismissal', 'revoked', 'caretaker', 'onslaught', 'repressive', 'prosecuting', 'politcal', 'disbandment', 'despotism', 'criminality', 'engineered', 'perpetuate', 'unions', 'condone', 'slogans', 'harrassing', 'mischief', 'agitating', 'violate', 'allied']\n"
     ]
    }
   ],
   "source": [
    "political_words = [\n",
    "    'politics', 'government', 'campaign', 'election', 'vote', 'ideology',\n",
    "    'political', 'democracy', 'president', 'partisan', 'corruption', 'reform'\n",
    "]\n",
    "political_words.extend(['kenyatta', 'uhuru', 'ruto', 'raila', 'odinga'])\n",
    "political_words_aug = snowball(w2v_model, political_words)\n",
    "print(political_words_aug)"
   ]
  },
  {
   "cell_type": "markdown",
   "metadata": {},
   "source": [
    "Now we load validation data and generate political scores"
   ]
  },
  {
   "cell_type": "code",
   "execution_count": 19,
   "metadata": {
    "tags": [
     "remove_cell"
    ]
   },
   "outputs": [],
   "source": [
    "def tokenize(df):\n",
    "    tokens = []\n",
    "    for i in tqdm_notebook(range(df.shape[0])):\n",
    "        current_tokens = tokenizer.tokenize(\n",
    "            df.iloc[i, df.columns.get_loc('text')])\n",
    "        tokens.append(current_tokens)\n",
    "    return tokens"
   ]
  },
  {
   "cell_type": "code",
   "execution_count": 20,
   "metadata": {
    "code_folding": [],
    "tags": [
     "remove_cell"
    ]
   },
   "outputs": [
    {
     "data": {
      "application/vnd.jupyter.widget-view+json": {
       "model_id": "e5e664419dcf4dccbf18095bb2cc1387",
       "version_major": 2,
       "version_minor": 0
      },
      "text/plain": [
       "HBox(children=(IntProgress(value=0, max=400), HTML(value='')))"
      ]
     },
     "metadata": {},
     "output_type": "display_data"
    },
    {
     "name": "stdout",
     "output_type": "stream",
     "text": [
      "\n"
     ]
    }
   ],
   "source": [
    "validated_tweets = pd.read_stata(\n",
    "    os.path.join(DATA_DIR, 'raw', 'validation_sample_bothcoders.dta'))\n",
    "\n",
    "validated_tweets['tokens'] = tokenize(validated_tweets)\n",
    "validated_tweets = validated_tweets.loc[validated_tweets.tokens.str.\n",
    "                                        len() > 1, :]\n",
    "validated_tweets['W2V_political'] = validated_tweets['tokens'].apply(\n",
    "    list_similarity, ref_list=political_words_aug, model=w2v_model)"
   ]
  },
  {
   "cell_type": "markdown",
   "metadata": {},
   "source": [
    "Correlation of political scores with coder_1 is 0.65, with coder_2 - 0.73"
   ]
  },
  {
   "cell_type": "code",
   "execution_count": 21,
   "metadata": {},
   "outputs": [
    {
     "data": {
      "text/html": [
       "<div>\n",
       "<style scoped>\n",
       "    .dataframe tbody tr th:only-of-type {\n",
       "        vertical-align: middle;\n",
       "    }\n",
       "\n",
       "    .dataframe tbody tr th {\n",
       "        vertical-align: top;\n",
       "    }\n",
       "\n",
       "    .dataframe thead th {\n",
       "        text-align: right;\n",
       "    }\n",
       "</style>\n",
       "<table border=\"1\" class=\"dataframe\">\n",
       "  <thead>\n",
       "    <tr style=\"text-align: right;\">\n",
       "      <th></th>\n",
       "      <th>coder_2</th>\n",
       "      <th>id</th>\n",
       "      <th>coder_1</th>\n",
       "      <th>W2V_political</th>\n",
       "    </tr>\n",
       "  </thead>\n",
       "  <tbody>\n",
       "    <tr>\n",
       "      <th>coder_2</th>\n",
       "      <td>1.000000</td>\n",
       "      <td>0.177303</td>\n",
       "      <td>0.617595</td>\n",
       "      <td>0.727474</td>\n",
       "    </tr>\n",
       "    <tr>\n",
       "      <th>id</th>\n",
       "      <td>0.177303</td>\n",
       "      <td>1.000000</td>\n",
       "      <td>0.210739</td>\n",
       "      <td>0.217393</td>\n",
       "    </tr>\n",
       "    <tr>\n",
       "      <th>coder_1</th>\n",
       "      <td>0.617595</td>\n",
       "      <td>0.210739</td>\n",
       "      <td>1.000000</td>\n",
       "      <td>0.659002</td>\n",
       "    </tr>\n",
       "    <tr>\n",
       "      <th>W2V_political</th>\n",
       "      <td>0.727474</td>\n",
       "      <td>0.217393</td>\n",
       "      <td>0.659002</td>\n",
       "      <td>1.000000</td>\n",
       "    </tr>\n",
       "  </tbody>\n",
       "</table>\n",
       "</div>"
      ],
      "text/plain": [
       "                coder_2        id   coder_1  W2V_political\n",
       "coder_2        1.000000  0.177303  0.617595       0.727474\n",
       "id             0.177303  1.000000  0.210739       0.217393\n",
       "coder_1        0.617595  0.210739  1.000000       0.659002\n",
       "W2V_political  0.727474  0.217393  0.659002       1.000000"
      ]
     },
     "execution_count": 21,
     "metadata": {},
     "output_type": "execute_result"
    }
   ],
   "source": [
    "validated_tweets.corr()"
   ]
  },
  {
   "cell_type": "markdown",
   "metadata": {},
   "source": [
    "Let's choose threshold for political score that gives the highest accuracy (according to coder_2). We can achieve 87% accuracy. Precision is 90% (meaning that 90% of tweets identified as political are indeed political), recall is 81% (we can successfully identify 81% of political tweets from the validation dataset)"
   ]
  },
  {
   "cell_type": "code",
   "execution_count": 22,
   "metadata": {},
   "outputs": [
    {
     "name": "stdout",
     "output_type": "stream",
     "text": [
      "Best threshold: 0.34, best accuracy: 0.868\n",
      "Precision: 0.895, recall: 0.814\n"
     ]
    }
   ],
   "source": [
    "best_acc = 0.0\n",
    "for t in np.arange(0.0, 1.01, 0.01):\n",
    "    predictions = np.where(validated_tweets['W2V_political'] >= t, 1, 0)\n",
    "    acc = metrics.accuracy_score(validated_tweets['coder_2'], predictions)\n",
    "    if acc > best_acc:\n",
    "        best_t = t\n",
    "        best_acc = acc\n",
    "print(f'Best threshold: {best_t}, best accuracy: {round(best_acc, 3)}')\n",
    "predictions = np.where(validated_tweets['W2V_political'] >= best_t, 1, 0)\n",
    "precision = metrics.precision_score(validated_tweets['coder_2'], predictions)\n",
    "recall = metrics.recall_score(validated_tweets['coder_2'], predictions)\n",
    "print(f'Precision: {round(precision, 3)}, recall: {round(recall, 3)}')"
   ]
  },
  {
   "cell_type": "markdown",
   "metadata": {},
   "source": [
    "### Analysis"
   ]
  },
  {
   "cell_type": "markdown",
   "metadata": {},
   "source": [
    "Now we can apply these rules to all tweets to calculate different statistics for the different group of users"
   ]
  },
  {
   "cell_type": "code",
   "execution_count": 23,
   "metadata": {
    "tags": [
     "remove_cell"
    ]
   },
   "outputs": [],
   "source": [
    "def minibatch_iterator(df, batch_size):\n",
    "    indices = np.arange(df.shape[0])\n",
    "    for idx in range(0, df.shape[0], batch_size):\n",
    "        batch_ind = indices[idx:min(idx + batch_size, df.shape[0])]\n",
    "        yield df.iloc[batch_ind, :].copy()"
   ]
  },
  {
   "cell_type": "code",
   "execution_count": 24,
   "metadata": {
    "scrolled": true,
    "tags": [
     "remove_cell"
    ]
   },
   "outputs": [
    {
     "data": {
      "application/vnd.jupyter.widget-view+json": {
       "model_id": "b4fed65c1db14bacb665718803f60f83",
       "version_major": 2,
       "version_minor": 0
      },
      "text/plain": [
       "HBox(children=(IntProgress(value=0, max=1000000), HTML(value='')))"
      ]
     },
     "metadata": {},
     "output_type": "display_data"
    },
    {
     "name": "stdout",
     "output_type": "stream",
     "text": [
      "\n"
     ]
    },
    {
     "data": {
      "application/vnd.jupyter.widget-view+json": {
       "model_id": "7029fb63bb884e20b14c3ccba61813aa",
       "version_major": 2,
       "version_minor": 0
      },
      "text/plain": [
       "HBox(children=(IntProgress(value=0, max=1000000), HTML(value='')))"
      ]
     },
     "metadata": {},
     "output_type": "display_data"
    },
    {
     "name": "stdout",
     "output_type": "stream",
     "text": [
      "\n"
     ]
    },
    {
     "data": {
      "application/vnd.jupyter.widget-view+json": {
       "model_id": "9005ac1ebb59455cadebbe64a43f57c7",
       "version_major": 2,
       "version_minor": 0
      },
      "text/plain": [
       "HBox(children=(IntProgress(value=0, max=1000000), HTML(value='')))"
      ]
     },
     "metadata": {},
     "output_type": "display_data"
    },
    {
     "name": "stdout",
     "output_type": "stream",
     "text": [
      "\n"
     ]
    },
    {
     "data": {
      "application/vnd.jupyter.widget-view+json": {
       "model_id": "5cf866e012094f84a7491514a6680cf6",
       "version_major": 2,
       "version_minor": 0
      },
      "text/plain": [
       "HBox(children=(IntProgress(value=0, max=1000000), HTML(value='')))"
      ]
     },
     "metadata": {},
     "output_type": "display_data"
    },
    {
     "name": "stdout",
     "output_type": "stream",
     "text": [
      "\n"
     ]
    },
    {
     "data": {
      "application/vnd.jupyter.widget-view+json": {
       "model_id": "ec5cf915c086464c9a2587edc69b5750",
       "version_major": 2,
       "version_minor": 0
      },
      "text/plain": [
       "HBox(children=(IntProgress(value=0, max=1000000), HTML(value='')))"
      ]
     },
     "metadata": {},
     "output_type": "display_data"
    },
    {
     "name": "stdout",
     "output_type": "stream",
     "text": [
      "\n"
     ]
    },
    {
     "data": {
      "application/vnd.jupyter.widget-view+json": {
       "model_id": "3149429200734eb08954fabc72edb0e7",
       "version_major": 2,
       "version_minor": 0
      },
      "text/plain": [
       "HBox(children=(IntProgress(value=0, max=1000000), HTML(value='')))"
      ]
     },
     "metadata": {},
     "output_type": "display_data"
    },
    {
     "name": "stdout",
     "output_type": "stream",
     "text": [
      "\n"
     ]
    },
    {
     "data": {
      "application/vnd.jupyter.widget-view+json": {
       "model_id": "defaba4ea82a4544941e7b9a31d95210",
       "version_major": 2,
       "version_minor": 0
      },
      "text/plain": [
       "HBox(children=(IntProgress(value=0, max=1000000), HTML(value='')))"
      ]
     },
     "metadata": {},
     "output_type": "display_data"
    },
    {
     "name": "stdout",
     "output_type": "stream",
     "text": [
      "\n"
     ]
    },
    {
     "data": {
      "application/vnd.jupyter.widget-view+json": {
       "model_id": "70d4092c87bb4e5f9c57a65a310dc047",
       "version_major": 2,
       "version_minor": 0
      },
      "text/plain": [
       "HBox(children=(IntProgress(value=0, max=1000000), HTML(value='')))"
      ]
     },
     "metadata": {},
     "output_type": "display_data"
    },
    {
     "name": "stdout",
     "output_type": "stream",
     "text": [
      "\n"
     ]
    },
    {
     "data": {
      "application/vnd.jupyter.widget-view+json": {
       "model_id": "630791d510f24b26b71613eb9492fdd0",
       "version_major": 2,
       "version_minor": 0
      },
      "text/plain": [
       "HBox(children=(IntProgress(value=0, max=997739), HTML(value='')))"
      ]
     },
     "metadata": {},
     "output_type": "display_data"
    },
    {
     "name": "stdout",
     "output_type": "stream",
     "text": [
      "\n"
     ]
    }
   ],
   "source": [
    "political_scores = []\n",
    "for batch in minibatch_iterator(tweets, 1000000):\n",
    "    batch['tokens'] = tokenize(batch)\n",
    "    political_scores.extend(batch['tokens'].apply(\n",
    "        list_similarity, ref_list=political_words_aug, model=w2v_model))"
   ]
  },
  {
   "cell_type": "code",
   "execution_count": 25,
   "metadata": {
    "tags": [
     "remove_cell"
    ]
   },
   "outputs": [],
   "source": [
    "tweets['W2V_political'] = political_scores\n",
    "tweets['is_political'] = np.where(tweets['W2V_political'] >= best_t, 1, 0)"
   ]
  },
  {
   "cell_type": "code",
   "execution_count": 26,
   "metadata": {
    "tags": [
     "remove_cell"
    ]
   },
   "outputs": [],
   "source": [
    "tweets[['id', 'W2V_political', 'is_political']].to_csv(osp.join(DATA_DIR, 'processed', 'tweets_scores.csv'), index=False)"
   ]
  },
  {
   "cell_type": "markdown",
   "metadata": {},
   "source": [
    "Let's look at some descriptive stats"
   ]
  },
  {
   "cell_type": "code",
   "execution_count": 27,
   "metadata": {},
   "outputs": [
    {
     "name": "stdout",
     "output_type": "stream",
     "text": [
      "count    8710773.000000\n",
      "mean           0.226505\n",
      "std            0.201107\n",
      "min           -0.466819\n",
      "25%            0.089854\n",
      "50%            0.201244\n",
      "75%            0.339705\n",
      "max            0.933720\n",
      "Name: W2V_political, dtype: object\n",
      "              political_tweets\n",
      "is_political                  \n",
      "0                      6823394\n",
      "1                      2174345\n"
     ]
    }
   ],
   "source": [
    "print(tweets['W2V_political'].describe().apply(lambda x: format(x, 'f')))\n",
    "print(tweets.groupby('is_political').size().to_frame(name='political_tweets'))"
   ]
  },
  {
   "cell_type": "markdown",
   "metadata": {},
   "source": [
    "Now we can finally look at the mean and median values of:\n",
    "\n",
    "1) percentage of political tweets by group\n",
    "\n",
    "2) political scores"
   ]
  },
  {
   "cell_type": "code",
   "execution_count": 28,
   "metadata": {},
   "outputs": [
    {
     "data": {
      "text/html": [
       "<div>\n",
       "<style scoped>\n",
       "    .dataframe tbody tr th:only-of-type {\n",
       "        vertical-align: middle;\n",
       "    }\n",
       "\n",
       "    .dataframe tbody tr th {\n",
       "        vertical-align: top;\n",
       "    }\n",
       "\n",
       "    .dataframe thead tr th {\n",
       "        text-align: left;\n",
       "    }\n",
       "\n",
       "    .dataframe thead tr:last-of-type th {\n",
       "        text-align: right;\n",
       "    }\n",
       "</style>\n",
       "<table border=\"1\" class=\"dataframe\">\n",
       "  <thead>\n",
       "    <tr>\n",
       "      <th></th>\n",
       "      <th colspan=\"2\" halign=\"left\">is_political</th>\n",
       "      <th colspan=\"2\" halign=\"left\">W2V_political</th>\n",
       "    </tr>\n",
       "    <tr>\n",
       "      <th></th>\n",
       "      <th>mean</th>\n",
       "      <th>median</th>\n",
       "      <th>mean</th>\n",
       "      <th>median</th>\n",
       "    </tr>\n",
       "    <tr>\n",
       "      <th>group</th>\n",
       "      <th></th>\n",
       "      <th></th>\n",
       "      <th></th>\n",
       "      <th></th>\n",
       "    </tr>\n",
       "  </thead>\n",
       "  <tbody>\n",
       "    <tr>\n",
       "      <th>group_Catholic</th>\n",
       "      <td>0.279237</td>\n",
       "      <td>0</td>\n",
       "      <td>0.247214</td>\n",
       "      <td>0.219846</td>\n",
       "    </tr>\n",
       "    <tr>\n",
       "      <th>group_Mainline Protestant</th>\n",
       "      <td>0.280528</td>\n",
       "      <td>0</td>\n",
       "      <td>0.247286</td>\n",
       "      <td>0.223539</td>\n",
       "    </tr>\n",
       "    <tr>\n",
       "      <th>group_Pentecostal</th>\n",
       "      <td>0.195158</td>\n",
       "      <td>0</td>\n",
       "      <td>0.203159</td>\n",
       "      <td>0.181588</td>\n",
       "    </tr>\n",
       "    <tr>\n",
       "      <th>group_nan</th>\n",
       "      <td>0.223486</td>\n",
       "      <td>0</td>\n",
       "      <td>0.215702</td>\n",
       "      <td>0.187788</td>\n",
       "    </tr>\n",
       "  </tbody>\n",
       "</table>\n",
       "</div>"
      ],
      "text/plain": [
       "                          is_political        W2V_political          \n",
       "                                  mean median          mean    median\n",
       "group                                                                \n",
       "group_Catholic                0.279237      0      0.247214  0.219846\n",
       "group_Mainline Protestant     0.280528      0      0.247286  0.223539\n",
       "group_Pentecostal             0.195158      0      0.203159  0.181588\n",
       "group_nan                     0.223486      0      0.215702  0.187788"
      ]
     },
     "execution_count": 28,
     "metadata": {},
     "output_type": "execute_result"
    }
   ],
   "source": [
    "tweets.groupby('group')[['is_political', 'W2V_political']].agg(['mean', 'median'])"
   ]
  },
  {
   "cell_type": "markdown",
   "metadata": {},
   "source": [
    "Mainline Protesant and Catholic are significantly more political than Pentercostal group \n",
    "(can perform statistical tests if necessary)"
   ]
  },
  {
   "cell_type": "markdown",
   "metadata": {},
   "source": [
    "We can also calculate mean values, but averaging on the user level first"
   ]
  },
  {
   "cell_type": "code",
   "execution_count": 29,
   "metadata": {},
   "outputs": [
    {
     "data": {
      "text/html": [
       "<div>\n",
       "<style scoped>\n",
       "    .dataframe tbody tr th:only-of-type {\n",
       "        vertical-align: middle;\n",
       "    }\n",
       "\n",
       "    .dataframe tbody tr th {\n",
       "        vertical-align: top;\n",
       "    }\n",
       "\n",
       "    .dataframe thead th {\n",
       "        text-align: right;\n",
       "    }\n",
       "</style>\n",
       "<table border=\"1\" class=\"dataframe\">\n",
       "  <thead>\n",
       "    <tr style=\"text-align: right;\">\n",
       "      <th></th>\n",
       "      <th>is_political</th>\n",
       "      <th>W2V_political</th>\n",
       "    </tr>\n",
       "    <tr>\n",
       "      <th>group</th>\n",
       "      <th></th>\n",
       "      <th></th>\n",
       "    </tr>\n",
       "  </thead>\n",
       "  <tbody>\n",
       "    <tr>\n",
       "      <th>group_Catholic</th>\n",
       "      <td>0.270294</td>\n",
       "      <td>0.240474</td>\n",
       "    </tr>\n",
       "    <tr>\n",
       "      <th>group_Mainline Protestant</th>\n",
       "      <td>0.247475</td>\n",
       "      <td>0.231318</td>\n",
       "    </tr>\n",
       "    <tr>\n",
       "      <th>group_Pentecostal</th>\n",
       "      <td>0.193971</td>\n",
       "      <td>0.202099</td>\n",
       "    </tr>\n",
       "    <tr>\n",
       "      <th>group_nan</th>\n",
       "      <td>0.208377</td>\n",
       "      <td>0.208057</td>\n",
       "    </tr>\n",
       "  </tbody>\n",
       "</table>\n",
       "</div>"
      ],
      "text/plain": [
       "                           is_political  W2V_political\n",
       "group                                                 \n",
       "group_Catholic                 0.270294       0.240474\n",
       "group_Mainline Protestant      0.247475       0.231318\n",
       "group_Pentecostal              0.193971       0.202099\n",
       "group_nan                      0.208377       0.208057"
      ]
     },
     "execution_count": 29,
     "metadata": {},
     "output_type": "execute_result"
    }
   ],
   "source": [
    "tweets.groupby(['screen_name', 'group'])[['is_political', 'W2V_political']].mean().reset_index().groupby('group').mean()"
   ]
  },
  {
   "cell_type": "markdown",
   "metadata": {},
   "source": [
    "Same picture - Pentecostal group is the least politically active\n",
    "\n",
    "What abouts absolute counts of tweets?"
   ]
  },
  {
   "cell_type": "code",
   "execution_count": 30,
   "metadata": {},
   "outputs": [
    {
     "data": {
      "text/html": [
       "<div>\n",
       "<style scoped>\n",
       "    .dataframe tbody tr th:only-of-type {\n",
       "        vertical-align: middle;\n",
       "    }\n",
       "\n",
       "    .dataframe tbody tr th {\n",
       "        vertical-align: top;\n",
       "    }\n",
       "\n",
       "    .dataframe thead th {\n",
       "        text-align: right;\n",
       "    }\n",
       "</style>\n",
       "<table border=\"1\" class=\"dataframe\">\n",
       "  <thead>\n",
       "    <tr style=\"text-align: right;\">\n",
       "      <th></th>\n",
       "      <th>num_tweets</th>\n",
       "    </tr>\n",
       "    <tr>\n",
       "      <th>group</th>\n",
       "      <th></th>\n",
       "    </tr>\n",
       "  </thead>\n",
       "  <tbody>\n",
       "    <tr>\n",
       "      <th>group_Catholic</th>\n",
       "      <td>595.762745</td>\n",
       "    </tr>\n",
       "    <tr>\n",
       "      <th>group_Mainline Protestant</th>\n",
       "      <td>699.544065</td>\n",
       "    </tr>\n",
       "    <tr>\n",
       "      <th>group_Pentecostal</th>\n",
       "      <td>474.073928</td>\n",
       "    </tr>\n",
       "    <tr>\n",
       "      <th>group_nan</th>\n",
       "      <td>492.983748</td>\n",
       "    </tr>\n",
       "  </tbody>\n",
       "</table>\n",
       "</div>"
      ],
      "text/plain": [
       "                           num_tweets\n",
       "group                                \n",
       "group_Catholic             595.762745\n",
       "group_Mainline Protestant  699.544065\n",
       "group_Pentecostal          474.073928\n",
       "group_nan                  492.983748"
      ]
     },
     "execution_count": 30,
     "metadata": {},
     "output_type": "execute_result"
    }
   ],
   "source": [
    "tweets.groupby([\n",
    "    'screen_name', 'group'\n",
    "]).size().to_frame(name='num_tweets').reset_index().groupby('group').mean()"
   ]
  },
  {
   "cell_type": "code",
   "execution_count": 31,
   "metadata": {},
   "outputs": [
    {
     "data": {
      "text/html": [
       "<div>\n",
       "<style scoped>\n",
       "    .dataframe tbody tr th:only-of-type {\n",
       "        vertical-align: middle;\n",
       "    }\n",
       "\n",
       "    .dataframe tbody tr th {\n",
       "        vertical-align: top;\n",
       "    }\n",
       "\n",
       "    .dataframe thead th {\n",
       "        text-align: right;\n",
       "    }\n",
       "</style>\n",
       "<table border=\"1\" class=\"dataframe\">\n",
       "  <thead>\n",
       "    <tr style=\"text-align: right;\">\n",
       "      <th></th>\n",
       "      <th>num_tweets</th>\n",
       "    </tr>\n",
       "    <tr>\n",
       "      <th>group</th>\n",
       "      <th></th>\n",
       "    </tr>\n",
       "  </thead>\n",
       "  <tbody>\n",
       "    <tr>\n",
       "      <th>group_Catholic</th>\n",
       "      <td>184.041215</td>\n",
       "    </tr>\n",
       "    <tr>\n",
       "      <th>group_Mainline Protestant</th>\n",
       "      <td>214.740443</td>\n",
       "    </tr>\n",
       "    <tr>\n",
       "      <th>group_Pentecostal</th>\n",
       "      <td>111.407715</td>\n",
       "    </tr>\n",
       "    <tr>\n",
       "      <th>group_nan</th>\n",
       "      <td>124.895489</td>\n",
       "    </tr>\n",
       "  </tbody>\n",
       "</table>\n",
       "</div>"
      ],
      "text/plain": [
       "                           num_tweets\n",
       "group                                \n",
       "group_Catholic             184.041215\n",
       "group_Mainline Protestant  214.740443\n",
       "group_Pentecostal          111.407715\n",
       "group_nan                  124.895489"
      ]
     },
     "execution_count": 31,
     "metadata": {},
     "output_type": "execute_result"
    }
   ],
   "source": [
    "tweets.loc[tweets.is_political == 1].groupby([\n",
    "    'screen_name', 'group'\n",
    "]).size().to_frame(name='num_tweets').reset_index().groupby('group').mean()"
   ]
  },
  {
   "cell_type": "markdown",
   "metadata": {},
   "source": [
    "Mainline Protestant are much more active in general, and tweet more about politics"
   ]
  }
 ],
 "metadata": {
  "celltoolbar": "Tags",
  "kernelspec": {
   "display_name": "kenya",
   "language": "python",
   "name": "kenya"
  },
  "language_info": {
   "codemirror_mode": {
    "name": "ipython",
    "version": 3
   },
   "file_extension": ".py",
   "mimetype": "text/x-python",
   "name": "python",
   "nbconvert_exporter": "python",
   "pygments_lexer": "ipython3",
   "version": "3.6.7"
  },
  "latex_metadata": {
   "affiliation": "New York University",
   "author": "Evgenii Nikitin",
   "title": "Kenya Report"
  }
 },
 "nbformat": 4,
 "nbformat_minor": 2
}
